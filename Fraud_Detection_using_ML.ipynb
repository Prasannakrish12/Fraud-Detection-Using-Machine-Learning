{
  "nbformat": 4,
  "nbformat_minor": 0,
  "metadata": {
    "colab": {
      "provenance": []
    },
    "kernelspec": {
      "name": "python3",
      "display_name": "Python 3"
    },
    "language_info": {
      "name": "python"
    }
  },
  "cells": [
    {
      "cell_type": "markdown",
      "source": [
        "# Fraud Detection using Machine Learning\n",
        "### Created by: Prasanna S  \n",
        "\n",
        "Hi! This notebook is my solution to the Fraud Detection using Machine Learning.  \n",
        "I've worked with the given dataset to understand the structure, clean the data, and build a machine learning model to identify potential fraudulent transactions.  \n",
        "\n",
        "The goal was to handle the large dataset efficiently, create useful visualizations, and develop a model that can help detect fraud — even when such cases are rare.  \n",
        "At the end, I’ve also answered the key business questions to understand the workflow."
      ],
      "metadata": {
        "id": "Nj3noeOoir_e"
      }
    },
    {
      "cell_type": "markdown",
      "source": [
        "## Step 1: Importing Required Libraries"
      ],
      "metadata": {
        "id": "Yx_0N8fKjdfO"
      }
    },
    {
      "cell_type": "code",
      "source": [
        "# Basic imports for data handling and modeling\n",
        "import pandas as pd\n",
        "import numpy as np\n",
        "import seaborn as sns\n",
        "import matplotlib.pyplot as plt\n",
        "\n",
        "# Machine learning libraries\n",
        "from sklearn.model_selection import train_test_split\n",
        "from sklearn.ensemble import RandomForestClassifier\n",
        "from sklearn.metrics import classification_report, confusion_matrix, roc_auc_score"
      ],
      "metadata": {
        "id": "ru0wtW9Dje7I"
      },
      "execution_count": null,
      "outputs": []
    },
    {
      "cell_type": "markdown",
      "source": [
        "## Step 2: Load and Sample the Dataset"
      ],
      "metadata": {
        "id": "_pUhgFLop52D"
      }
    },
    {
      "cell_type": "code",
      "source": [
        "df = pd.read_csv(\"/content/Fraud.csv\")\n",
        "df_ds = df.sample(n=1048576, random_state=42)\n",
        "df_ds.head()"
      ],
      "metadata": {
        "colab": {
          "base_uri": "https://localhost:8080/",
          "height": 226
        },
        "id": "b94Rs7ykp-bg",
        "outputId": "c8fed5cd-1f3a-43ae-f150-4ab9cbe5fcc2"
      },
      "execution_count": null,
      "outputs": [
        {
          "output_type": "execute_result",
          "data": {
            "text/plain": [
              "         step      type      amount     nameOrig  oldbalanceOrg  \\\n",
              "3612494   273   PAYMENT     5952.99  C2077722130           0.00   \n",
              "3415945   256  CASH_OUT    17860.01  C1465650170         312.00   \n",
              "2485256   204   CASH_IN   133872.01   C405298805     2239643.39   \n",
              "3073109   235   CASH_IN   129140.28  C1655548495    26759009.78   \n",
              "2607961   208  TRANSFER  1315486.74  C1304038784           0.00   \n",
              "\n",
              "         newbalanceOrig     nameDest  oldbalanceDest  newbalanceDest  isFraud  \\\n",
              "3612494            0.00  M2081047516            0.00            0.00      0.0   \n",
              "3415945            0.00  C1069968715      2769991.35      2787851.36      0.0   \n",
              "2485256      2373515.39   C135126939       870740.06       736868.06      0.0   \n",
              "3073109     26888150.06   C402437422      6260834.27      6131693.99      0.0   \n",
              "2607961            0.00   C427179054      2992406.52      4307893.26      0.0   \n",
              "\n",
              "         isFlaggedFraud  \n",
              "3612494             0.0  \n",
              "3415945             0.0  \n",
              "2485256             0.0  \n",
              "3073109             0.0  \n",
              "2607961             0.0  "
            ],
            "text/html": [
              "\n",
              "  <div id=\"df-deed2f86-6a9a-4d0d-9e8e-de74495d7141\" class=\"colab-df-container\">\n",
              "    <div>\n",
              "<style scoped>\n",
              "    .dataframe tbody tr th:only-of-type {\n",
              "        vertical-align: middle;\n",
              "    }\n",
              "\n",
              "    .dataframe tbody tr th {\n",
              "        vertical-align: top;\n",
              "    }\n",
              "\n",
              "    .dataframe thead th {\n",
              "        text-align: right;\n",
              "    }\n",
              "</style>\n",
              "<table border=\"1\" class=\"dataframe\">\n",
              "  <thead>\n",
              "    <tr style=\"text-align: right;\">\n",
              "      <th></th>\n",
              "      <th>step</th>\n",
              "      <th>type</th>\n",
              "      <th>amount</th>\n",
              "      <th>nameOrig</th>\n",
              "      <th>oldbalanceOrg</th>\n",
              "      <th>newbalanceOrig</th>\n",
              "      <th>nameDest</th>\n",
              "      <th>oldbalanceDest</th>\n",
              "      <th>newbalanceDest</th>\n",
              "      <th>isFraud</th>\n",
              "      <th>isFlaggedFraud</th>\n",
              "    </tr>\n",
              "  </thead>\n",
              "  <tbody>\n",
              "    <tr>\n",
              "      <th>3612494</th>\n",
              "      <td>273</td>\n",
              "      <td>PAYMENT</td>\n",
              "      <td>5952.99</td>\n",
              "      <td>C2077722130</td>\n",
              "      <td>0.00</td>\n",
              "      <td>0.00</td>\n",
              "      <td>M2081047516</td>\n",
              "      <td>0.00</td>\n",
              "      <td>0.00</td>\n",
              "      <td>0.0</td>\n",
              "      <td>0.0</td>\n",
              "    </tr>\n",
              "    <tr>\n",
              "      <th>3415945</th>\n",
              "      <td>256</td>\n",
              "      <td>CASH_OUT</td>\n",
              "      <td>17860.01</td>\n",
              "      <td>C1465650170</td>\n",
              "      <td>312.00</td>\n",
              "      <td>0.00</td>\n",
              "      <td>C1069968715</td>\n",
              "      <td>2769991.35</td>\n",
              "      <td>2787851.36</td>\n",
              "      <td>0.0</td>\n",
              "      <td>0.0</td>\n",
              "    </tr>\n",
              "    <tr>\n",
              "      <th>2485256</th>\n",
              "      <td>204</td>\n",
              "      <td>CASH_IN</td>\n",
              "      <td>133872.01</td>\n",
              "      <td>C405298805</td>\n",
              "      <td>2239643.39</td>\n",
              "      <td>2373515.39</td>\n",
              "      <td>C135126939</td>\n",
              "      <td>870740.06</td>\n",
              "      <td>736868.06</td>\n",
              "      <td>0.0</td>\n",
              "      <td>0.0</td>\n",
              "    </tr>\n",
              "    <tr>\n",
              "      <th>3073109</th>\n",
              "      <td>235</td>\n",
              "      <td>CASH_IN</td>\n",
              "      <td>129140.28</td>\n",
              "      <td>C1655548495</td>\n",
              "      <td>26759009.78</td>\n",
              "      <td>26888150.06</td>\n",
              "      <td>C402437422</td>\n",
              "      <td>6260834.27</td>\n",
              "      <td>6131693.99</td>\n",
              "      <td>0.0</td>\n",
              "      <td>0.0</td>\n",
              "    </tr>\n",
              "    <tr>\n",
              "      <th>2607961</th>\n",
              "      <td>208</td>\n",
              "      <td>TRANSFER</td>\n",
              "      <td>1315486.74</td>\n",
              "      <td>C1304038784</td>\n",
              "      <td>0.00</td>\n",
              "      <td>0.00</td>\n",
              "      <td>C427179054</td>\n",
              "      <td>2992406.52</td>\n",
              "      <td>4307893.26</td>\n",
              "      <td>0.0</td>\n",
              "      <td>0.0</td>\n",
              "    </tr>\n",
              "  </tbody>\n",
              "</table>\n",
              "</div>\n",
              "    <div class=\"colab-df-buttons\">\n",
              "\n",
              "  <div class=\"colab-df-container\">\n",
              "    <button class=\"colab-df-convert\" onclick=\"convertToInteractive('df-deed2f86-6a9a-4d0d-9e8e-de74495d7141')\"\n",
              "            title=\"Convert this dataframe to an interactive table.\"\n",
              "            style=\"display:none;\">\n",
              "\n",
              "  <svg xmlns=\"http://www.w3.org/2000/svg\" height=\"24px\" viewBox=\"0 -960 960 960\">\n",
              "    <path d=\"M120-120v-720h720v720H120Zm60-500h600v-160H180v160Zm220 220h160v-160H400v160Zm0 220h160v-160H400v160ZM180-400h160v-160H180v160Zm440 0h160v-160H620v160ZM180-180h160v-160H180v160Zm440 0h160v-160H620v160Z\"/>\n",
              "  </svg>\n",
              "    </button>\n",
              "\n",
              "  <style>\n",
              "    .colab-df-container {\n",
              "      display:flex;\n",
              "      gap: 12px;\n",
              "    }\n",
              "\n",
              "    .colab-df-convert {\n",
              "      background-color: #E8F0FE;\n",
              "      border: none;\n",
              "      border-radius: 50%;\n",
              "      cursor: pointer;\n",
              "      display: none;\n",
              "      fill: #1967D2;\n",
              "      height: 32px;\n",
              "      padding: 0 0 0 0;\n",
              "      width: 32px;\n",
              "    }\n",
              "\n",
              "    .colab-df-convert:hover {\n",
              "      background-color: #E2EBFA;\n",
              "      box-shadow: 0px 1px 2px rgba(60, 64, 67, 0.3), 0px 1px 3px 1px rgba(60, 64, 67, 0.15);\n",
              "      fill: #174EA6;\n",
              "    }\n",
              "\n",
              "    .colab-df-buttons div {\n",
              "      margin-bottom: 4px;\n",
              "    }\n",
              "\n",
              "    [theme=dark] .colab-df-convert {\n",
              "      background-color: #3B4455;\n",
              "      fill: #D2E3FC;\n",
              "    }\n",
              "\n",
              "    [theme=dark] .colab-df-convert:hover {\n",
              "      background-color: #434B5C;\n",
              "      box-shadow: 0px 1px 3px 1px rgba(0, 0, 0, 0.15);\n",
              "      filter: drop-shadow(0px 1px 2px rgba(0, 0, 0, 0.3));\n",
              "      fill: #FFFFFF;\n",
              "    }\n",
              "  </style>\n",
              "\n",
              "    <script>\n",
              "      const buttonEl =\n",
              "        document.querySelector('#df-deed2f86-6a9a-4d0d-9e8e-de74495d7141 button.colab-df-convert');\n",
              "      buttonEl.style.display =\n",
              "        google.colab.kernel.accessAllowed ? 'block' : 'none';\n",
              "\n",
              "      async function convertToInteractive(key) {\n",
              "        const element = document.querySelector('#df-deed2f86-6a9a-4d0d-9e8e-de74495d7141');\n",
              "        const dataTable =\n",
              "          await google.colab.kernel.invokeFunction('convertToInteractive',\n",
              "                                                    [key], {});\n",
              "        if (!dataTable) return;\n",
              "\n",
              "        const docLinkHtml = 'Like what you see? Visit the ' +\n",
              "          '<a target=\"_blank\" href=https://colab.research.google.com/notebooks/data_table.ipynb>data table notebook</a>'\n",
              "          + ' to learn more about interactive tables.';\n",
              "        element.innerHTML = '';\n",
              "        dataTable['output_type'] = 'display_data';\n",
              "        await google.colab.output.renderOutput(dataTable, element);\n",
              "        const docLink = document.createElement('div');\n",
              "        docLink.innerHTML = docLinkHtml;\n",
              "        element.appendChild(docLink);\n",
              "      }\n",
              "    </script>\n",
              "  </div>\n",
              "\n",
              "\n",
              "    <div id=\"df-650a1859-e0a9-44a5-9cb1-20e19b612f42\">\n",
              "      <button class=\"colab-df-quickchart\" onclick=\"quickchart('df-650a1859-e0a9-44a5-9cb1-20e19b612f42')\"\n",
              "                title=\"Suggest charts\"\n",
              "                style=\"display:none;\">\n",
              "\n",
              "<svg xmlns=\"http://www.w3.org/2000/svg\" height=\"24px\"viewBox=\"0 0 24 24\"\n",
              "     width=\"24px\">\n",
              "    <g>\n",
              "        <path d=\"M19 3H5c-1.1 0-2 .9-2 2v14c0 1.1.9 2 2 2h14c1.1 0 2-.9 2-2V5c0-1.1-.9-2-2-2zM9 17H7v-7h2v7zm4 0h-2V7h2v10zm4 0h-2v-4h2v4z\"/>\n",
              "    </g>\n",
              "</svg>\n",
              "      </button>\n",
              "\n",
              "<style>\n",
              "  .colab-df-quickchart {\n",
              "      --bg-color: #E8F0FE;\n",
              "      --fill-color: #1967D2;\n",
              "      --hover-bg-color: #E2EBFA;\n",
              "      --hover-fill-color: #174EA6;\n",
              "      --disabled-fill-color: #AAA;\n",
              "      --disabled-bg-color: #DDD;\n",
              "  }\n",
              "\n",
              "  [theme=dark] .colab-df-quickchart {\n",
              "      --bg-color: #3B4455;\n",
              "      --fill-color: #D2E3FC;\n",
              "      --hover-bg-color: #434B5C;\n",
              "      --hover-fill-color: #FFFFFF;\n",
              "      --disabled-bg-color: #3B4455;\n",
              "      --disabled-fill-color: #666;\n",
              "  }\n",
              "\n",
              "  .colab-df-quickchart {\n",
              "    background-color: var(--bg-color);\n",
              "    border: none;\n",
              "    border-radius: 50%;\n",
              "    cursor: pointer;\n",
              "    display: none;\n",
              "    fill: var(--fill-color);\n",
              "    height: 32px;\n",
              "    padding: 0;\n",
              "    width: 32px;\n",
              "  }\n",
              "\n",
              "  .colab-df-quickchart:hover {\n",
              "    background-color: var(--hover-bg-color);\n",
              "    box-shadow: 0 1px 2px rgba(60, 64, 67, 0.3), 0 1px 3px 1px rgba(60, 64, 67, 0.15);\n",
              "    fill: var(--button-hover-fill-color);\n",
              "  }\n",
              "\n",
              "  .colab-df-quickchart-complete:disabled,\n",
              "  .colab-df-quickchart-complete:disabled:hover {\n",
              "    background-color: var(--disabled-bg-color);\n",
              "    fill: var(--disabled-fill-color);\n",
              "    box-shadow: none;\n",
              "  }\n",
              "\n",
              "  .colab-df-spinner {\n",
              "    border: 2px solid var(--fill-color);\n",
              "    border-color: transparent;\n",
              "    border-bottom-color: var(--fill-color);\n",
              "    animation:\n",
              "      spin 1s steps(1) infinite;\n",
              "  }\n",
              "\n",
              "  @keyframes spin {\n",
              "    0% {\n",
              "      border-color: transparent;\n",
              "      border-bottom-color: var(--fill-color);\n",
              "      border-left-color: var(--fill-color);\n",
              "    }\n",
              "    20% {\n",
              "      border-color: transparent;\n",
              "      border-left-color: var(--fill-color);\n",
              "      border-top-color: var(--fill-color);\n",
              "    }\n",
              "    30% {\n",
              "      border-color: transparent;\n",
              "      border-left-color: var(--fill-color);\n",
              "      border-top-color: var(--fill-color);\n",
              "      border-right-color: var(--fill-color);\n",
              "    }\n",
              "    40% {\n",
              "      border-color: transparent;\n",
              "      border-right-color: var(--fill-color);\n",
              "      border-top-color: var(--fill-color);\n",
              "    }\n",
              "    60% {\n",
              "      border-color: transparent;\n",
              "      border-right-color: var(--fill-color);\n",
              "    }\n",
              "    80% {\n",
              "      border-color: transparent;\n",
              "      border-right-color: var(--fill-color);\n",
              "      border-bottom-color: var(--fill-color);\n",
              "    }\n",
              "    90% {\n",
              "      border-color: transparent;\n",
              "      border-bottom-color: var(--fill-color);\n",
              "    }\n",
              "  }\n",
              "</style>\n",
              "\n",
              "      <script>\n",
              "        async function quickchart(key) {\n",
              "          const quickchartButtonEl =\n",
              "            document.querySelector('#' + key + ' button');\n",
              "          quickchartButtonEl.disabled = true;  // To prevent multiple clicks.\n",
              "          quickchartButtonEl.classList.add('colab-df-spinner');\n",
              "          try {\n",
              "            const charts = await google.colab.kernel.invokeFunction(\n",
              "                'suggestCharts', [key], {});\n",
              "          } catch (error) {\n",
              "            console.error('Error during call to suggestCharts:', error);\n",
              "          }\n",
              "          quickchartButtonEl.classList.remove('colab-df-spinner');\n",
              "          quickchartButtonEl.classList.add('colab-df-quickchart-complete');\n",
              "        }\n",
              "        (() => {\n",
              "          let quickchartButtonEl =\n",
              "            document.querySelector('#df-650a1859-e0a9-44a5-9cb1-20e19b612f42 button');\n",
              "          quickchartButtonEl.style.display =\n",
              "            google.colab.kernel.accessAllowed ? 'block' : 'none';\n",
              "        })();\n",
              "      </script>\n",
              "    </div>\n",
              "\n",
              "    </div>\n",
              "  </div>\n"
            ],
            "application/vnd.google.colaboratory.intrinsic+json": {
              "type": "dataframe",
              "variable_name": "df_ds"
            }
          },
          "metadata": {},
          "execution_count": 7
        }
      ]
    },
    {
      "cell_type": "markdown",
      "source": [
        "## Step 3: Data Cleaning and Preparation"
      ],
      "metadata": {
        "id": "0kw7bycfkQoM"
      }
    },
    {
      "cell_type": "code",
      "source": [
        "# Removing ID columns like nameOrig and nameDest since they aren't useful for prediction\n",
        "df_ds.drop(['nameOrig', 'nameDest'], axis=1, inplace=True)\n",
        "\n",
        "# Converting 'type' column into numeric format using one-hot encoding\n",
        "df_ds = pd.get_dummies(df_ds, columns=['type'], drop_first=True)\n",
        "\n",
        "# Check for missing values\n",
        "print(\"Missing values in data:\\n\", df_ds.isnull().sum())"
      ],
      "metadata": {
        "colab": {
          "base_uri": "https://localhost:8080/"
        },
        "id": "IGiSCx9QkRUd",
        "outputId": "9dff2565-1a09-4c00-f19a-3253630a4543"
      },
      "execution_count": null,
      "outputs": [
        {
          "output_type": "stream",
          "name": "stdout",
          "text": [
            "Missing values in data:\n",
            " step              0\n",
            "amount            0\n",
            "oldbalanceOrg     0\n",
            "newbalanceOrig    0\n",
            "oldbalanceDest    0\n",
            "newbalanceDest    0\n",
            "isFraud           0\n",
            "isFlaggedFraud    0\n",
            "type_CASH_OUT     0\n",
            "type_DEBIT        0\n",
            "type_PAYMENT      0\n",
            "type_TRANSFER     0\n",
            "dtype: int64\n"
          ]
        }
      ]
    },
    {
      "cell_type": "markdown",
      "source": [
        "## Step 4: Exploring Feature Relationships"
      ],
      "metadata": {
        "id": "77fIBE5rkcSi"
      }
    },
    {
      "cell_type": "code",
      "source": [
        "# Plotting heatmap to see how strongly features are related (multicollinearity check)\n",
        "plt.figure(figsize=(10,6))\n",
        "sns.heatmap(df_ds.corr(), cmap='coolwarm', annot=False)\n",
        "plt.title(\"Feature Correlation Heatmap\")\n",
        "plt.show()"
      ],
      "metadata": {
        "colab": {
          "base_uri": "https://localhost:8080/",
          "height": 646
        },
        "id": "KcZGlv5zkhxU",
        "outputId": "f7563a25-d951-4955-8828-6c019f895da3"
      },
      "execution_count": null,
      "outputs": [
        {
          "output_type": "display_data",
          "data": {
            "text/plain": [
              "<Figure size 1000x600 with 2 Axes>"
            ],
            "image/png": "[encoded data removed]"
          },
          "metadata": {}
        }
      ]
    },
    {
      "cell_type": "markdown",
      "source": [
        "## Step 5: Define Features and Target"
      ],
      "metadata": {
        "id": "fbeAhcfSkn_v"
      }
    },
    {
      "cell_type": "code",
      "source": [
        "# Define independent variables (features) and target variable\n",
        "X = df_ds.drop(['isFraud', 'isFlaggedFraud'], axis=1)\n",
        "y = df_ds['isFraud']\n",
        "\n",
        "# Split into training and testing datasets\n",
        "X_train, X_test, y_train, y_test = train_test_split(X, y, test_size=0.2, random_state=42)"
      ],
      "metadata": {
        "id": "xrDvm0I1kpEw"
      },
      "execution_count": null,
      "outputs": []
    },
    {
      "cell_type": "markdown",
      "source": [
        "## Step 6: Train the Random Forest Classifier"
      ],
      "metadata": {
        "id": "D9j2mmJxkv1W"
      }
    },
    {
      "cell_type": "code",
      "source": [
        "# Build and train the Random Forest model\n",
        "model = RandomForestClassifier(n_estimators=100, random_state=42)\n",
        "model.fit(X_train, y_train)\n",
        "\n",
        "# Predict on test data\n",
        "y_pred = model.predict(X_test)"
      ],
      "metadata": {
        "id": "1RtXH7sFkxs2"
      },
      "execution_count": null,
      "outputs": []
    },
    {
      "cell_type": "markdown",
      "source": [
        "## Step 7: Evaluate the Model"
      ],
      "metadata": {
        "id": "YtIRlcbVk4JG"
      }
    },
    {
      "cell_type": "code",
      "source": [
        "# Confusion matrix\n",
        "print(\"Confusion Matrix:\\n\", confusion_matrix(y_test, y_pred))\n",
        "\n",
        "# Classification report\n",
        "print(\"\\nClassification Report:\\n\", classification_report(y_test, y_pred))\n",
        "\n",
        "# ROC AUC Score\n",
        "roc = roc_auc_score(y_test, y_pred)\n",
        "print(\"\\nROC AUC Score:\", roc)"
      ],
      "metadata": {
        "colab": {
          "base_uri": "https://localhost:8080/"
        },
        "id": "eqMOigAqk7k5",
        "outputId": "6ec2f9fb-d10d-47eb-daec-c6c85f225021"
      },
      "execution_count": 13,
      "outputs": [
        {
          "output_type": "stream",
          "name": "stdout",
          "text": [
            "Confusion Matrix:\n",
            " [[209553      3]\n",
            " [    33    127]]\n",
            "\n",
            "Classification Report:\n",
            "               precision    recall  f1-score   support\n",
            "\n",
            "         0.0       1.00      1.00      1.00    209556\n",
            "         1.0       0.98      0.79      0.88       160\n",
            "\n",
            "    accuracy                           1.00    209716\n",
            "   macro avg       0.99      0.90      0.94    209716\n",
            "weighted avg       1.00      1.00      1.00    209716\n",
            "\n",
            "\n",
            "ROC AUC Score: 0.8968678420088186\n"
          ]
        }
      ]
    },
    {
      "cell_type": "markdown",
      "source": [
        "## Step 8: Visualize Fraud vs Non-Fraud Cases"
      ],
      "metadata": {
        "id": "RxBg6vSIk_DA"
      }
    },
    {
      "cell_type": "code",
      "source": [
        "# Visual count of fraud cases\n",
        "sns.countplot(x='isFraud', data=df_ds)\n",
        "plt.title(\"Fraud vs Non-Fraud Transactions\")\n",
        "plt.xlabel(\"Is Fraud?\")\n",
        "plt.ylabel(\"Count\")\n",
        "plt.show()"
      ],
      "metadata": {
        "colab": {
          "base_uri": "https://localhost:8080/",
          "height": 472
        },
        "id": "utAJyZUVk_kF",
        "outputId": "41d59fae-7183-4f3b-df67-92cb564f6412"
      },
      "execution_count": 15,
      "outputs": [
        {
          "output_type": "display_data",
          "data": {
            "text/plain": [
              "<Figure size 640x480 with 1 Axes>"
            ],
            "image/png": "[encoded data removed]"
          },
          "metadata": {}
        }
      ]
    },
    {
      "cell_type": "markdown",
      "source": [
        "### Class Distribution – Fraud vs Non-Fraud\n",
        "\n",
        "In the 1 million sample taken from the dataset, we observe that almost all transactions are non-fraudulent.  \n",
        "This matches real-world scenarios where fraudulent activity is extremely rare.\n",
        "\n",
        "While the sample does not contain many fraud cases, it still demonstrates how models can be trained on naturally imbalanced data.  \n",
        "To improve detection performance in real-life, techniques like resampling or anomaly detection would be needed."
      ],
      "metadata": {
        "id": "iUuoJqMhtujY"
      }
    },
    {
      "cell_type": "markdown",
      "source": [
        "## Answers to Business Questions"
      ],
      "metadata": {
        "id": "x0c11Azpln09"
      }
    },
    {
      "cell_type": "markdown",
      "source": [
        "## Answers to Business Questions"
      ],
      "metadata": {
        "id": "HoSUS7P_lo_q"
      }
    },
    {
      "cell_type": "markdown",
      "source": [
        "### Q1. How did you clean the data?  "
      ],
      "metadata": {
        "id": "hol6uCOZluks"
      }
    },
    {
      "cell_type": "markdown",
      "source": [
        "I removed the columns `nameOrig` and `nameDest` since they are just customer IDs and won’t help predict fraud.  \n",
        "There were no missing values, and I used one-hot encoding for the `type` column to convert it to a usable numerical format."
      ],
      "metadata": {
        "id": "8gmHPCNgl09T"
      }
    },
    {
      "cell_type": "markdown",
      "source": [
        "### Q2. What model did you use, and why?"
      ],
      "metadata": {
        "id": "0aKDyLZKl6tx"
      }
    },
    {
      "cell_type": "markdown",
      "source": [
        "I used a **Random Forest Classifier** because it handles large, noisy data well and doesn’t require too much parameter tuning.  \n",
        "It also works fine with class imbalance and gives feature importance for interpretation.\n"
      ],
      "metadata": {
        "id": "bbBueIkxl9q1"
      }
    },
    {
      "cell_type": "markdown",
      "source": [
        "### Q3. How did you select variables for the model?  "
      ],
      "metadata": {
        "id": "I3x7s_XTl_z0"
      }
    },
    {
      "cell_type": "markdown",
      "source": [
        "I selected features that logically relate to transaction behavior like `amount`, `step`, and the account balances.  \n",
        "I excluded IDs and flag variables and used correlation heatmaps to verify that the features were not strongly redundant.\n",
        "\n"
      ],
      "metadata": {
        "id": "TMUYAbhImB2B"
      }
    },
    {
      "cell_type": "markdown",
      "source": [
        "### Q4. How did you evaluate your model?  "
      ],
      "metadata": {
        "id": "agCA6ftFmFZY"
      }
    },
    {
      "cell_type": "markdown",
      "source": [
        "I used a combination of confusion matrix, classification report (precision, recall, f1), and ROC AUC score.  \n",
        "This gave a balanced view of the model’s performance, especially given the fraud class is rare."
      ],
      "metadata": {
        "id": "wzp1tPMEmHLL"
      }
    },
    {
      "cell_type": "markdown",
      "source": [
        "### Q5. What were the key indicators of fraud?  "
      ],
      "metadata": {
        "id": "BAfewfQpmKf7"
      }
    },
    {
      "cell_type": "markdown",
      "source": [
        "Fraudulent transactions often had:\n",
        "- Large transfer amounts\n",
        "- Sudden drops in sender balance\n",
        "- Certain transaction types like TRANSFER and CASH_OUT  \n",
        "These matched common fraud tactics like moving and withdrawing funds quickly."
      ],
      "metadata": {
        "id": "i49xEKHumMt3"
      }
    },
    {
      "cell_type": "markdown",
      "source": [
        "### Q6. Do those factors make sense?"
      ],
      "metadata": {
        "id": "o5F-i3kZmPV3"
      }
    },
    {
      "cell_type": "markdown",
      "source": [
        "Yes. Frauds often happen in high-value transactions that move funds quickly, sometimes to empty accounts.  \n",
        "The features identified by the model align with this — which adds confidence.\n"
      ],
      "metadata": {
        "id": "c78OiFmumSIe"
      }
    },
    {
      "cell_type": "markdown",
      "source": [
        "### Q7. What preventive actions should be taken?  "
      ],
      "metadata": {
        "id": "6f1uZomcmVO7"
      }
    },
    {
      "cell_type": "markdown",
      "source": [
        "- Add multi-level verification for high-value transfers  \n",
        "- Limit repeated high-value transactions in short intervals  \n",
        "- Use behavioral modeling to detect sudden changes in account patterns  \n",
        "- Monitor typical fraud feature combinations (e.g., large amount + empty recipient)\n"
      ],
      "metadata": {
        "id": "ueAit48JmXg0"
      }
    },
    {
      "cell_type": "markdown",
      "source": [
        "### Q8. How would you check if prevention methods worked?  "
      ],
      "metadata": {
        "id": "f55HOdq5maJf"
      }
    },
    {
      "cell_type": "markdown",
      "source": [
        "I’d compare fraud rates before and after changes.  \n",
        "Also, I’d monitor metrics like flagged cases, false positives, and customer complaints.  \n",
        "A/B testing or phased rollouts would help evaluate effectiveness objectively.\n"
      ],
      "metadata": {
        "id": "vW7b5aJ6mcQI"
      }
    }
  ]
}